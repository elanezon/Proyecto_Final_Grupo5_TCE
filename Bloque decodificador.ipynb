{
 "cells": [
  {
   "cell_type": "code",
   "execution_count": 1,
   "id": "8631128e",
   "metadata": {},
   "outputs": [],
   "source": [
    "import numpy as np"
   ]
  },
  {
   "cell_type": "code",
   "execution_count": 2,
   "id": "64479e60",
   "metadata": {},
   "outputs": [],
   "source": [
    "# Matriz de paridad H para Hamming (7,4)\n",
    "H = np.array([[1, 1, 1, 0, 1, 0, 0],\n",
    "              [1, 0, 1, 1, 0, 1, 0],\n",
    "              [0, 1, 1, 1, 0, 0, 1]])\n",
    "\n",
    "# Función para calcular el síndrome\n",
    "def calcular_sindrome(bits_codificados):\n",
    "    return np.dot(H, bits_codificados) % 2\n",
    "\n",
    "# Función para corregir el bit erróneo\n",
    "def corregir_error(bits_codificados, sindrome):\n",
    "    # Convertir el síndrome a una posición de bit (0-indexado)\n",
    "    posicion_error = int(\"\".join(map(str, sindrome[::-1])), 2) - 1\n",
    "    if posicion_error >= 0:\n",
    "        print(f\"Error detectado en la posición {posicion_error + 1}\")\n",
    "        bits_codificados[posicion_error] ^= 1  # Corregir el error invirtiendo el bit\n",
    "    else:\n",
    "        print(\"No se detectó error\")\n",
    "    return bits_codificados\n",
    "\n",
    "# Función para decodificar los bits de Hamming (7,4)\n",
    "def decodificar_hamming(bits_codificados):\n",
    "    sindrome = calcular_sindrome(bits_codificados)\n",
    "    if np.any(sindrome):\n",
    "        bits_codificados = corregir_error(bits_codificados, sindrome)\n",
    "    else:\n",
    "        print(\"No se detectó error\")\n",
    "    \n",
    "    # Extraer los bits de datos (posiciones 3, 5, 6 y 7)\n",
    "    bits_datos = bits_codificados[[2, 4, 5, 6]]\n",
    "    return bits_datos\n",
    "\n",
    "# Función para procesar una lista larga de bits codificados\n",
    "def procesar_codigo_hamming(bits_codificados):\n",
    "    mensaje_decodificado = []\n",
    "    for i in range(0, len(bits_codificados), 7):\n",
    "        bloque = np.array(bits_codificados[i:i+7])\n",
    "        if len(bloque) < 7:\n",
    "            print(f\"El bloque {i//7 + 1} está incompleto y se omitirá.\")\n",
    "            continue\n",
    "        print(f\"Procesando bloque {i//7 + 1}: {bloque}\")\n",
    "        bits_decodificados = decodificar_hamming(bloque)\n",
    "        mensaje_decodificado.extend(bits_decodificados)\n",
    "    return mensaje_decodificado\n"
   ]
  },
  {
   "cell_type": "code",
   "execution_count": 3,
   "id": "ba3d9026",
   "metadata": {},
   "outputs": [
    {
     "name": "stdout",
     "output_type": "stream",
     "text": [
      "Procesando bloque 1: [0 1 0 1 0 1 0]\n",
      "Error detectado en la posición 1\n",
      "Procesando bloque 2: [0 1 1 1 1 0 0]\n",
      "Error detectado en la posición 5\n",
      "Procesando bloque 3: [0 1 0 1 0 1 0]\n",
      "Error detectado en la posición 1\n",
      "Procesando bloque 4: [1 0 1 0 1 0 1]\n",
      "Error detectado en la posición 1\n",
      "Procesando bloque 5: [0 0 0 0 0 0 0]\n",
      "No se detectó error\n",
      "Procesando bloque 6: [0 1 1 1 1 0 0]\n",
      "Error detectado en la posición 5\n",
      "Procesando bloque 7: [0 1 1 1 1 0 0]\n",
      "Error detectado en la posición 5\n",
      "Procesando bloque 8: [1 0 1 0 1 0 1]\n",
      "Error detectado en la posición 1\n",
      "Procesando bloque 9: [1 1 0 0 1 1 0]\n",
      "Error detectado en la posición 5\n",
      "Procesando bloque 10: [1 0 1 0 1 0 1]\n",
      "Error detectado en la posición 1\n",
      "Procesando bloque 11: [1 0 0 1 1 0 0]\n",
      "Error detectado en la posición 4\n",
      "Procesando bloque 12: [1 0 1 0 1 0 1]\n",
      "Error detectado en la posición 1\n",
      "Procesando bloque 13: [1 1 0 1 0 0 1]\n",
      "Error detectado en la posición 4\n",
      "Procesando bloque 14: [1 0 1 1 0 1 0]\n",
      "No se detectó error\n",
      "Procesando bloque 15: [1 0 1 1 0 1 0]\n",
      "No se detectó error\n",
      "Procesando bloque 16: [1 0 1 1 0 1 0]\n",
      "No se detectó error\n",
      "Procesando bloque 17: [1 0 1 1 0 1 0]\n",
      "No se detectó error\n",
      "Procesando bloque 18: [1 0 1 1 0 1 0]\n",
      "No se detectó error\n",
      "Procesando bloque 19: [1 1 1 0 0 0 0]\n",
      "Error detectado en la posición 1\n",
      "Procesando bloque 20: [1 0 1 1 0 1 0]\n",
      "No se detectó error\n",
      "Procesando bloque 21: [1 1 1 0 0 0 0]\n",
      "Error detectado en la posición 1\n",
      "Mensaje decodificado: [0, 0, 1, 0, 1, 0, 0, 0, 0, 0, 1, 0, 1, 1, 0, 1, 0, 0, 0, 0, 1, 0, 0, 0, 1, 0, 0, 0, 1, 1, 0, 1, 0, 0, 1, 0, 1, 1, 0, 1, 0, 1, 0, 0, 1, 1, 0, 1, 0, 0, 0, 1, 1, 0, 1, 0, 1, 0, 1, 0, 1, 0, 1, 0, 1, 0, 1, 0, 1, 0, 1, 0, 1, 0, 0, 0, 1, 0, 1, 0, 1, 0, 0, 0]\n"
     ]
    }
   ],
   "source": [
    "# Prueba para detección de errores\n",
    "bits_codificados = [0, 1, 0, 1, 0, 1, 0, 0, 1, 1, 1, 1, 0, 0, 0, 1, 0, 1, 0, 1, 0, 1, 0, 1, 0, 1, 0, 1, 0, 0, 0, 0, 0, 0, 0, 0, 1, 1, 1, 1, 0, 0, 0, 1, 1, 1, 1, 0, 0, 1, 0, 1, 0, 1, 0, 1, 1, 1, 0, 0, 1, 1, 0, 1, 0, 1, 0, 1, 0, 1, 1, 0, 0, 1, 1, 0, 0, 1, 0, 1, 0, 1, 0, 1, 1, 1, 0, 1, 0, 0, 1, 1, 0, 1, 1, 0, 1, 0, 1, 0, 1, 1, 0, 1, 0, 1, 0, 1, 1, 0, 1, 0, 1, 0, 1, 1, 0, 1, 0, 1, 0, 1, 1, 0, 1, 0, 1, 1, 1, 0, 0, 0, 0, 1, 0, 1, 1, 0, 1, 0, 1, 1, 1, 0, 0, 0, 0]\n",
    "\n",
    "mensaje_decodificado = procesar_codigo_hamming(bits_codificados)\n",
    "print(\"Mensaje decodificado:\", mensaje_decodificado)"
   ]
  },
  {
   "cell_type": "code",
   "execution_count": null,
   "id": "94a16a16",
   "metadata": {},
   "outputs": [],
   "source": []
  }
 ],
 "metadata": {
  "kernelspec": {
   "display_name": "Python 3 (ipykernel)",
   "language": "python",
   "name": "python3"
  },
  "language_info": {
   "codemirror_mode": {
    "name": "ipython",
    "version": 3
   },
   "file_extension": ".py",
   "mimetype": "text/x-python",
   "name": "python",
   "nbconvert_exporter": "python",
   "pygments_lexer": "ipython3",
   "version": "3.11.4"
  }
 },
 "nbformat": 4,
 "nbformat_minor": 5
}
