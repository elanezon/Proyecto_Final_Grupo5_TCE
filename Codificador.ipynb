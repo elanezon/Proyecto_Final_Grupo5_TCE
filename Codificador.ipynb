{
 "cells": [
  {
   "cell_type": "code",
   "execution_count": 45,
   "id": "bfcbdccc-715f-4712-995c-16ec8cf18c26",
   "metadata": {},
   "outputs": [],
   "source": [
    "import random\n",
    "import time"
   ]
  },
  {
   "cell_type": "code",
   "execution_count": 46,
   "id": "cf6c7b40-7323-4cd6-ad43-92288c9271e0",
   "metadata": {},
   "outputs": [],
   "source": [
    "# Caso Hamming 7,4\n",
    "def bits_paridad_74(data_input):\n",
    "    #data_input = [int(x) for x in str(data_input)]  # input (xxx) a array ([x,x,x]) # Solo Test \n",
    "    par1, par2, par3 = 0, 0, 0          # Asignacion de bits de paridad\n",
    "    \n",
    "    for i in range(0, len(data_input), 4):\n",
    "        seg_par = data_input[i:i+4]\n",
    "        #print(seg_par)\n",
    "        if len(seg_par) == 4:\n",
    "            #Bit de paridad 1\n",
    "            par1 = seg_par[0] ^seg_par[1] ^seg_par[3]\n",
    "            #Bit de paridad 1\n",
    "            par2 = seg_par[0] ^seg_par[2] ^seg_par[3]\n",
    "            #Bit de paridad 1\n",
    "            par3 = seg_par[1] ^seg_par[2] ^seg_par[3]\n",
    "            \n",
    "    return par1, par2, par3, data_input[0], data_input[1], data_input[2], data_input[3]\n",
    "\n",
    "def hamming_74(data_input):\n",
    "    #data_input = [int(x) for x in str(data_input)]  # input (xxx) a array ([x,x,x])\n",
    "    codex_74 = []       # Array de la codificacion\n",
    "    for i in range(0, len(data_input), 4):\n",
    "        seg_codex = data_input[i:i+4]\n",
    "        if len(seg_codex) < 4:\n",
    "            seg_codex += [0] * (4 - len(seg_codex))\n",
    "            # Se llena de ceros en caso de transmision incompleta\n",
    "        \n",
    "        p1, p2, p3, d1, d2, d3, d4 = bits_paridad_74(seg_codex)\n",
    "        \n",
    "        codex_74.extend([p1, p2, d1, p3, d2, d3, d4])\n",
    "\n",
    "    return codex_74"
   ]
  },
  {
   "cell_type": "code",
   "execution_count": 47,
   "id": "9e34dae3-c2cb-48a9-9457-1190b17f309d",
   "metadata": {},
   "outputs": [],
   "source": [
    "# Caso Hamming 15,11\n",
    "def bits_paridad_1511(data_input):\n",
    "    #data_input = [int(x) for x in str(data_input)]  # input (xxx) a array ([x,x,x]) # Solo Test\n",
    "    par1, par2, par3, par4 = 0, 0, 0, 0         # Asignacion de bits de paridad\n",
    "    \n",
    "    for i in range(0, len(data_input), 11):\n",
    "        seg_par = data_input[i:i+11]\n",
    "        #print(seg_par)\n",
    "        if len(seg_par) == 11:\n",
    "            #Bit de paridad 1\n",
    "            par1 = seg_par[0] ^seg_par[1] ^seg_par[3] ^seg_par[4] ^seg_par[6] ^seg_par[8] ^seg_par[10]\n",
    "            #Bit de paridad 2\n",
    "            par2 = seg_par[0] ^seg_par[2] ^seg_par[3] ^seg_par[5] ^seg_par[6] ^seg_par[9] ^seg_par[10]\n",
    "            #Bit de paridad 3\n",
    "            par3 = seg_par[1] ^seg_par[2] ^seg_par[3] ^seg_par[7] ^seg_par[8] ^seg_par[9] ^seg_par[10]\n",
    "            #Bit de paridad 4\n",
    "            par4 = seg_par[4] ^seg_par[5] ^seg_par[6] ^seg_par[7] ^seg_par[8] ^seg_par[9] ^seg_par[10]\n",
    "            \n",
    "    return par1, par2, par3, par4, data_input[0], data_input[1], data_input[2], data_input[3], data_input[4], data_input[5], data_input[6], data_input[7], data_input[8], data_input[9], data_input[10]\n",
    "\n",
    "def hamming_1511(data_input):\n",
    "    #data_input = [int(x) for x in str(data_input)]  # input (xxx) a array ([x,x,x])\n",
    "    codex_1511 = []         # Array de codificacion\n",
    "    for i in range(0, len(data_input), 11):\n",
    "        seg_codex = data_input[i:i+11]\n",
    "        if len(seg_codex) < 11:\n",
    "            seg_codex += [0] * (11 - len(seg_codex)) # se llena de ceros en caso de transmision incompleta\n",
    "\n",
    "        p1, p2, p3, p4, d1, d2, d3, d4, d5, d6, d7, d8, d9, d10, d11 = bits_paridad_1511(seg_codex) # extraccion de los bits de paridad\n",
    "\n",
    "        codex_1511.extend([p1, p2, d1, p3, d2, d3, d4, p4, d5, d6, d7, d8, d9, d10, d11]) # Concatenación de bits\n",
    "        \n",
    "    return codex_1511"
   ]
  },
  {
   "cell_type": "code",
   "execution_count": 48,
   "id": "50926179-6370-41b0-91d5-894e18d4cab5",
   "metadata": {},
   "outputs": [],
   "source": [
    "# Test 200 veces\n",
    "\n",
    "def Test_ejecucion(selector):\n",
    "    inicio = time.time()\n",
    "    for i in range(200):\n",
    "        if selector == 74:\n",
    "            data_input = ''.join(str(random.randint(0,1)) for i in range(200))\n",
    "            codex = hamming_74(data_input)\n",
    "        elif selector == 1511:\n",
    "            data_input = ''.join(str(random.randint(0,1)) for i in range(200))\n",
    "            codex = hamming_1511(data_input)\n",
    "        else:\n",
    "            print(\"Codificacion no disponible\")\n",
    "            return\n",
    "    final = time.time()\n",
    "    ETA = final - inicio\n",
    "    ETAs = ETA/200\n",
    "    frec = 1/ETA\n",
    "    frecs = 1/ETAs\n",
    "    print(\"Tiempo de ejecucion total: \", ETA, \"[s]\")\n",
    "    print(\"Tiempo promedio: \", ETAs, \"[s]\")\n",
    "    print(frec, frecs)"
   ]
  },
  {
   "cell_type": "code",
   "execution_count": 49,
   "id": "65b255ab-d0ab-47e9-a0a7-ec4031295df2",
   "metadata": {},
   "outputs": [],
   "source": [
    "# Ciclo de accion directo\n",
    "\n",
    "def coder(data_input, selec):\n",
    "    if selec == 74:\n",
    "        codex_74 = hamming_74(data_input)\n",
    "        print(\"Código de Hamming (7,4): \\n\", codex_74)\n",
    "    #[int(bool(x)) for x in \n",
    "    elif selec == 1511:\n",
    "        codex_1511 = hamming_1511(data_input)\n",
    "        print(\"Código de Hamming (15,11): \\n\", codex_1511)\n",
    "    else:\n",
    "        print(\"Codificación no disponible\")"
   ]
  },
  {
   "cell_type": "code",
   "execution_count": 50,
   "id": "9233426b-bb41-4f30-8569-958fa17d5829",
   "metadata": {},
   "outputs": [],
   "source": [
    "#coder(1010110000101101000011001100110101101101010011011000110100001100001011100110110010001100110,74)"
   ]
  },
  {
   "cell_type": "code",
   "execution_count": 51,
   "id": "344d5c34-8b99-4993-a454-50329ad550a2",
   "metadata": {},
   "outputs": [
    {
     "name": "stdout",
     "output_type": "stream",
     "text": [
      "Código de Hamming (15,11): \n",
      " [0, 1, 0, 0, 0, 1, 0, 1, 1, 1, 0, 0, 0, 0, 1, 1, 1, 0, 0, 1, 1, 0, 1, 1, 0, 0, 0, 0, 1, 1, 0, 0, 0, 0, 0, 1, 1, 1, 0, 0, 1, 1, 0, 1, 0, 0, 1, 1, 1, 1, 0, 1, 1, 1, 0, 1, 0, 1, 0, 0, 1, 1, 1, 1, 1, 0, 1, 1, 0, 0, 0, 1, 1, 0, 1, 0, 1, 0, 0, 1, 0, 1, 1, 0, 1, 0, 1, 0, 1, 0, 0, 0, 1, 0, 0, 1, 0, 1, 1, 0, 1, 0, 0, 0, 1, 1, 0, 0, 1, 1, 0, 1, 1, 1, 1, 0, 0, 1, 1, 1]\n"
     ]
    }
   ],
   "source": [
    "coder([0,0,1,0,1,1,0,0,0,0,1,0,1,1,0,1,0,0,0,0,1,1,0,0,1,1,0,0,1,1,0,1,0,1,1,0,1,1,0,1,0,1,0,0,1,1,0,1,0,0,0,1,1,0,1,0,1,0,1,0,1,0,1,0,1,0,1,0,1,0,1,0,1,0,0,0,1,0,1,0,1,1,1,0,0,1,1,1,],1511)"
   ]
  },
  {
   "cell_type": "code",
   "execution_count": null,
   "id": "a8912df6-0682-4a75-ae5a-e7c13d31c1ff",
   "metadata": {},
   "outputs": [],
   "source": []
  }
 ],
 "metadata": {
  "kernelspec": {
   "display_name": "Python 3 (ipykernel)",
   "language": "python",
   "name": "python3"
  },
  "language_info": {
   "codemirror_mode": {
    "name": "ipython",
    "version": 3
   },
   "file_extension": ".py",
   "mimetype": "text/x-python",
   "name": "python",
   "nbconvert_exporter": "python",
   "pygments_lexer": "ipython3",
   "version": "3.12.2"
  }
 },
 "nbformat": 4,
 "nbformat_minor": 5
}
